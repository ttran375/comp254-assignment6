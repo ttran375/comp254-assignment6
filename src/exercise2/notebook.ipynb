{
 "cells": [
  {
   "cell_type": "markdown",
   "metadata": {},
   "source": [
    "# Lab Assignment #6 – Using Maps and Hash Tables"
   ]
  },
  {
   "cell_type": "markdown",
   "metadata": {},
   "source": [
    "## Exercise 2"
   ]
  },
  {
   "cell_type": "markdown",
   "metadata": {},
   "source": [
    "**If your first name starts with a letter from A-J inclusively:**\n",
    "\n",
    "The use of **null** values in a map is problematic, as there is then no\n",
    "way to differentiate whether a **null** value returned by the call\n",
    "`get(k)` represents the legitimate value of an entry (k, null), or\n",
    "designates that key k was not found. The `java.util.Map` interface\n",
    "includes a boolean method, `containsKey(k)`, that resolves any such\n",
    "ambiguity.\n",
    "\n",
    "Implement the `containKey(k)` method for the `SortedTableMap` class.\n",
    "**Hint:** Use the existing `findIndex(k)` method.\n",
    "\n",
    "Write a Java/Python application to test your solution."
   ]
  },
  {
   "cell_type": "code",
   "execution_count": 8,
   "metadata": {},
   "outputs": [
    {
     "name": "stdout",
     "output_type": "stream",
     "text": [
      "Contain 'a': True\n",
      "Contain 'b': True\n",
      "Contain 'c': True\n",
      "Contain 'd': False\n",
      "Contain 'b' after deletion: False\n"
     ]
    }
   ],
   "source": [
    "from sorted_table_map import SortedTableMap\n",
    "\n",
    "\n",
    "def main():\n",
    "    m = SortedTableMap()\n",
    "    m[\"a\"] = 1\n",
    "    m[\"b\"] = 2\n",
    "    m[\"c\"] = 3\n",
    "\n",
    "    print(\"Contain 'a':\", m.containKey(\"a\"))  # Expected: True\n",
    "    print(\"Contain 'b':\", m.containKey(\"b\"))  # Expected: True\n",
    "    print(\"Contain 'c':\", m.containKey(\"c\"))  # Expected: True\n",
    "    print(\"Contain 'd':\", m.containKey(\"d\"))  # Expected: False\n",
    "\n",
    "    del m[\"b\"]\n",
    "    print(\"Contain 'b' after deletion:\", m.containKey(\"b\"))  # Expected: False\n",
    "\n",
    "\n",
    "if __name__ == \"__main__\":\n",
    "    main()"
   ]
  },
  {
   "cell_type": "markdown",
   "metadata": {},
   "source": [
    "**If your first name starts with a letter from K-Z inclusively:**\n",
    "\n",
    "Implement the `containKey(k)` method for the `UnSortedTableMap` class.\n",
    "**Hint:** Use the existing `findIndex(k)` method.\n",
    "\n",
    "Write a Java/Python application to test your solution."
   ]
  },
  {
   "cell_type": "code",
   "execution_count": 9,
   "metadata": {},
   "outputs": [
    {
     "name": "stdout",
     "output_type": "stream",
     "text": [
      "Contain 'a': True\n",
      "Contain 'b': True\n",
      "Contain 'c': True\n",
      "Contain 'd': False\n",
      "Contain 'b' after deletion: False\n"
     ]
    }
   ],
   "source": [
    "from unsorted_table_map import UnsortedTableMap\n",
    "\n",
    "\n",
    "def main():\n",
    "    m = UnsortedTableMap()\n",
    "    m[\"a\"] = 1\n",
    "    m[\"b\"] = 2\n",
    "    m[\"c\"] = 3\n",
    "\n",
    "    print(\"Contain 'a':\", m.containKey(\"a\"))\n",
    "    print(\"Contain 'b':\", m.containKey(\"b\"))\n",
    "    print(\"Contain 'c':\", m.containKey(\"c\"))\n",
    "    print(\"Contain 'd':\", m.containKey(\"d\"))\n",
    "\n",
    "    del m[\"b\"]\n",
    "    print(\"Contain 'b' after deletion:\", m.containKey(\"b\"))\n",
    "\n",
    "\n",
    "if __name__ == \"__main__\":\n",
    "    main()"
   ]
  }
 ],
 "metadata": {
  "kernelspec": {
   "display_name": "Python 3",
   "language": "python",
   "name": "python3"
  },
  "language_info": {
   "codemirror_mode": {
    "name": "ipython",
    "version": 3
   },
   "file_extension": ".py",
   "mimetype": "text/x-python",
   "name": "python",
   "nbconvert_exporter": "python",
   "pygments_lexer": "ipython3",
   "version": "3.10.13"
  }
 },
 "nbformat": 4,
 "nbformat_minor": 2
}
